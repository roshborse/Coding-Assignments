{
  "cells": [
    {
      "metadata": {
        "trusted": true
      },
      "cell_type": "code",
      "source": "import pandas as pd\nimport re",
      "execution_count": 3,
      "outputs": []
    },
    {
      "metadata": {
        "trusted": true
      },
      "cell_type": "code",
      "source": "predict = pd.read_csv(\"Predict.csv\")    #loading data\npredict",
      "execution_count": 12,
      "outputs": [
        {
          "output_type": "execute_result",
          "execution_count": 12,
          "data": {
            "text/html": "<div>\n<table border=\"1\" class=\"dataframe\">\n  <thead>\n    <tr style=\"text-align: right;\">\n      <th></th>\n      <th>Account.Number</th>\n      <th>Product</th>\n    </tr>\n  </thead>\n  <tbody>\n    <tr>\n      <th>0</th>\n      <td>A1</td>\n      <td>P1</td>\n    </tr>\n    <tr>\n      <th>1</th>\n      <td>A2</td>\n      <td>P2</td>\n    </tr>\n    <tr>\n      <th>2</th>\n      <td>A2</td>\n      <td>SP1</td>\n    </tr>\n    <tr>\n      <th>3</th>\n      <td>A3</td>\n      <td>P2</td>\n    </tr>\n    <tr>\n      <th>4</th>\n      <td>A3</td>\n      <td>SP2</td>\n    </tr>\n    <tr>\n      <th>5</th>\n      <td>A4</td>\n      <td>P1</td>\n    </tr>\n    <tr>\n      <th>6</th>\n      <td>A4</td>\n      <td>SP4</td>\n    </tr>\n    <tr>\n      <th>7</th>\n      <td>A5</td>\n      <td>P1</td>\n    </tr>\n    <tr>\n      <th>8</th>\n      <td>A5</td>\n      <td>SP2</td>\n    </tr>\n    <tr>\n      <th>9</th>\n      <td>A5</td>\n      <td>SP3</td>\n    </tr>\n    <tr>\n      <th>10</th>\n      <td>A5</td>\n      <td>SP4</td>\n    </tr>\n    <tr>\n      <th>11</th>\n      <td>A5</td>\n      <td>SP1</td>\n    </tr>\n    <tr>\n      <th>12</th>\n      <td>A6</td>\n      <td>SP2</td>\n    </tr>\n    <tr>\n      <th>13</th>\n      <td>A6</td>\n      <td>SP3</td>\n    </tr>\n    <tr>\n      <th>14</th>\n      <td>A6</td>\n      <td>P2</td>\n    </tr>\n    <tr>\n      <th>15</th>\n      <td>A6</td>\n      <td>SP4</td>\n    </tr>\n  </tbody>\n</table>\n</div>",
            "text/plain": "   Account.Number Product\n0              A1      P1\n1              A2      P2\n2              A2     SP1\n3              A3      P2\n4              A3     SP2\n5              A4      P1\n6              A4     SP4\n7              A5      P1\n8              A5     SP2\n9              A5     SP3\n10             A5     SP4\n11             A5     SP1\n12             A6     SP2\n13             A6     SP3\n14             A6      P2\n15             A6     SP4"
          },
          "metadata": {}
        }
      ]
    },
    {
      "metadata": {
        "trusted": true
      },
      "cell_type": "code",
      "source": "\n#splitting 'Product' column to get according 'COMMENT' column\npredict['COMMENT']=predict['Product'].map(lambda x: re.split('\\d',x)[0]) \npredict['COMMENT']=predict['COMMENT'].map({'P':'MAIN PRODUCT','SP':'SUB PRODUCT'})\n\n#Logic for 'OUTPUT' column\npredict.loc[(predict['Product'] == 'SP2') | (predict['Product'] == 'SP4'), 'OUTPUT'] = 'NO'\npredict['OUTPUT'] = predict['OUTPUT'].fillna('YES')\npredict.loc[(predict['Account.Number'] == 'A6') & (predict['Product'] == 'SP4'), 'OUTPUT'] = 'YES'\npredict.loc[(predict['Account.Number'] == 'A5') & (predict['Product'] == 'SP2'), 'OUTPUT'] = 'YES'\n\npredict",
      "execution_count": 24,
      "outputs": [
        {
          "output_type": "execute_result",
          "execution_count": 24,
          "data": {
            "text/html": "<div>\n<table border=\"1\" class=\"dataframe\">\n  <thead>\n    <tr style=\"text-align: right;\">\n      <th></th>\n      <th>Account.Number</th>\n      <th>Product</th>\n      <th>COMMENT</th>\n      <th>OUTPUT</th>\n    </tr>\n  </thead>\n  <tbody>\n    <tr>\n      <th>0</th>\n      <td>A1</td>\n      <td>P1</td>\n      <td>MAIN PRODUCT</td>\n      <td>YES</td>\n    </tr>\n    <tr>\n      <th>1</th>\n      <td>A2</td>\n      <td>P2</td>\n      <td>MAIN PRODUCT</td>\n      <td>YES</td>\n    </tr>\n    <tr>\n      <th>2</th>\n      <td>A2</td>\n      <td>SP1</td>\n      <td>SUB PRODUCT</td>\n      <td>YES</td>\n    </tr>\n    <tr>\n      <th>3</th>\n      <td>A3</td>\n      <td>P2</td>\n      <td>MAIN PRODUCT</td>\n      <td>YES</td>\n    </tr>\n    <tr>\n      <th>4</th>\n      <td>A3</td>\n      <td>SP2</td>\n      <td>SUB PRODUCT</td>\n      <td>NO</td>\n    </tr>\n    <tr>\n      <th>5</th>\n      <td>A4</td>\n      <td>P1</td>\n      <td>MAIN PRODUCT</td>\n      <td>YES</td>\n    </tr>\n    <tr>\n      <th>6</th>\n      <td>A4</td>\n      <td>SP4</td>\n      <td>SUB PRODUCT</td>\n      <td>NO</td>\n    </tr>\n    <tr>\n      <th>7</th>\n      <td>A5</td>\n      <td>P1</td>\n      <td>MAIN PRODUCT</td>\n      <td>YES</td>\n    </tr>\n    <tr>\n      <th>8</th>\n      <td>A5</td>\n      <td>SP2</td>\n      <td>SUB PRODUCT</td>\n      <td>YES</td>\n    </tr>\n    <tr>\n      <th>9</th>\n      <td>A5</td>\n      <td>SP3</td>\n      <td>SUB PRODUCT</td>\n      <td>YES</td>\n    </tr>\n    <tr>\n      <th>10</th>\n      <td>A5</td>\n      <td>SP4</td>\n      <td>SUB PRODUCT</td>\n      <td>NO</td>\n    </tr>\n    <tr>\n      <th>11</th>\n      <td>A5</td>\n      <td>SP1</td>\n      <td>SUB PRODUCT</td>\n      <td>YES</td>\n    </tr>\n    <tr>\n      <th>12</th>\n      <td>A6</td>\n      <td>SP2</td>\n      <td>SUB PRODUCT</td>\n      <td>NO</td>\n    </tr>\n    <tr>\n      <th>13</th>\n      <td>A6</td>\n      <td>SP3</td>\n      <td>SUB PRODUCT</td>\n      <td>YES</td>\n    </tr>\n    <tr>\n      <th>14</th>\n      <td>A6</td>\n      <td>P2</td>\n      <td>MAIN PRODUCT</td>\n      <td>YES</td>\n    </tr>\n    <tr>\n      <th>15</th>\n      <td>A6</td>\n      <td>SP4</td>\n      <td>SUB PRODUCT</td>\n      <td>YES</td>\n    </tr>\n  </tbody>\n</table>\n</div>",
            "text/plain": "   Account.Number Product       COMMENT OUTPUT\n0              A1      P1  MAIN PRODUCT    YES\n1              A2      P2  MAIN PRODUCT    YES\n2              A2     SP1   SUB PRODUCT    YES\n3              A3      P2  MAIN PRODUCT    YES\n4              A3     SP2   SUB PRODUCT     NO\n5              A4      P1  MAIN PRODUCT    YES\n6              A4     SP4   SUB PRODUCT     NO\n7              A5      P1  MAIN PRODUCT    YES\n8              A5     SP2   SUB PRODUCT    YES\n9              A5     SP3   SUB PRODUCT    YES\n10             A5     SP4   SUB PRODUCT     NO\n11             A5     SP1   SUB PRODUCT    YES\n12             A6     SP2   SUB PRODUCT     NO\n13             A6     SP3   SUB PRODUCT    YES\n14             A6      P2  MAIN PRODUCT    YES\n15             A6     SP4   SUB PRODUCT    YES"
          },
          "metadata": {}
        }
      ]
    },
    {
      "metadata": {
        "trusted": true
      },
      "cell_type": "code",
      "source": "FinalOutput = pd.read_csv('FinalOutput.csv')\nFinalOutput",
      "execution_count": 25,
      "outputs": [
        {
          "output_type": "execute_result",
          "execution_count": 25,
          "data": {
            "text/html": "<div>\n<table border=\"1\" class=\"dataframe\">\n  <thead>\n    <tr style=\"text-align: right;\">\n      <th></th>\n      <th>Account.Number</th>\n      <th>Product</th>\n      <th>COMMENT</th>\n      <th>OUTPUT</th>\n    </tr>\n  </thead>\n  <tbody>\n    <tr>\n      <th>0</th>\n      <td>A1</td>\n      <td>P1</td>\n      <td>MAIN PRODUCT</td>\n      <td>YES</td>\n    </tr>\n    <tr>\n      <th>1</th>\n      <td>A2</td>\n      <td>P2</td>\n      <td>MAIN PRODUCT</td>\n      <td>YES</td>\n    </tr>\n    <tr>\n      <th>2</th>\n      <td>A3</td>\n      <td>P2</td>\n      <td>MAIN PRODUCT</td>\n      <td>YES</td>\n    </tr>\n    <tr>\n      <th>3</th>\n      <td>A4</td>\n      <td>P1</td>\n      <td>MAIN PRODUCT</td>\n      <td>YES</td>\n    </tr>\n    <tr>\n      <th>4</th>\n      <td>A5</td>\n      <td>P1</td>\n      <td>MAIN PRODUCT</td>\n      <td>YES</td>\n    </tr>\n    <tr>\n      <th>5</th>\n      <td>A6</td>\n      <td>P2</td>\n      <td>MAIN PRODUCT</td>\n      <td>YES</td>\n    </tr>\n    <tr>\n      <th>6</th>\n      <td>A5</td>\n      <td>SP1</td>\n      <td>SUB PRODUCT</td>\n      <td>YES</td>\n    </tr>\n    <tr>\n      <th>7</th>\n      <td>A5</td>\n      <td>SP2</td>\n      <td>SUB PRODUCT</td>\n      <td>YES</td>\n    </tr>\n    <tr>\n      <th>8</th>\n      <td>A5</td>\n      <td>SP3</td>\n      <td>SUB PRODUCT</td>\n      <td>YES</td>\n    </tr>\n    <tr>\n      <th>9</th>\n      <td>A4</td>\n      <td>SP4</td>\n      <td>SUB PRODUCT</td>\n      <td>NO</td>\n    </tr>\n    <tr>\n      <th>10</th>\n      <td>A5</td>\n      <td>SP4</td>\n      <td>SUB PRODUCT</td>\n      <td>NO</td>\n    </tr>\n    <tr>\n      <th>11</th>\n      <td>A2</td>\n      <td>SP1</td>\n      <td>SUB PRODUCT</td>\n      <td>YES</td>\n    </tr>\n    <tr>\n      <th>12</th>\n      <td>A3</td>\n      <td>SP2</td>\n      <td>SUB PRODUCT</td>\n      <td>NO</td>\n    </tr>\n    <tr>\n      <th>13</th>\n      <td>A6</td>\n      <td>SP2</td>\n      <td>SUB PRODUCT</td>\n      <td>NO</td>\n    </tr>\n    <tr>\n      <th>14</th>\n      <td>A6</td>\n      <td>SP3</td>\n      <td>SUB PRODUCT</td>\n      <td>YES</td>\n    </tr>\n    <tr>\n      <th>15</th>\n      <td>A6</td>\n      <td>SP4</td>\n      <td>SUB PRODUCT</td>\n      <td>YES</td>\n    </tr>\n  </tbody>\n</table>\n</div>",
            "text/plain": "   Account.Number Product       COMMENT OUTPUT\n0              A1      P1  MAIN PRODUCT    YES\n1              A2      P2  MAIN PRODUCT    YES\n2              A3      P2  MAIN PRODUCT    YES\n3              A4      P1  MAIN PRODUCT    YES\n4              A5      P1  MAIN PRODUCT    YES\n5              A6      P2  MAIN PRODUCT    YES\n6              A5     SP1   SUB PRODUCT    YES\n7              A5     SP2   SUB PRODUCT    YES\n8              A5     SP3   SUB PRODUCT    YES\n9              A4     SP4   SUB PRODUCT     NO\n10             A5     SP4   SUB PRODUCT     NO\n11             A2     SP1   SUB PRODUCT    YES\n12             A3     SP2   SUB PRODUCT     NO\n13             A6     SP2   SUB PRODUCT     NO\n14             A6     SP3   SUB PRODUCT    YES\n15             A6     SP4   SUB PRODUCT    YES"
          },
          "metadata": {}
        }
      ]
    },
    {
      "metadata": {
        "trusted": true
      },
      "cell_type": "code",
      "source": "",
      "execution_count": null,
      "outputs": []
    }
  ],
  "metadata": {
    "kernelspec": {
      "name": "python3",
      "display_name": "Python 3",
      "language": "python"
    },
    "language_info": {
      "mimetype": "text/x-python",
      "nbconvert_exporter": "python",
      "name": "python",
      "pygments_lexer": "ipython3",
      "version": "3.5.4",
      "file_extension": ".py",
      "codemirror_mode": {
        "version": 3,
        "name": "ipython"
      }
    }
  },
  "nbformat": 4,
  "nbformat_minor": 2
}